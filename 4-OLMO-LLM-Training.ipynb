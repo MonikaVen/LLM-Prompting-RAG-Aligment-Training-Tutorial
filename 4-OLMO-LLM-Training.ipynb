{
  "nbformat": 4,
  "nbformat_minor": 0,
  "metadata": {
    "colab": {
      "provenance": [],
      "authorship_tag": "ABX9TyNNXna5ClslhQqhx65MHiPO",
      "include_colab_link": true
    },
    "kernelspec": {
      "name": "python3",
      "display_name": "Python 3"
    },
    "language_info": {
      "name": "python"
    }
  },
  "cells": [
    {
      "cell_type": "markdown",
      "metadata": {
        "id": "view-in-github",
        "colab_type": "text"
      },
      "source": [
        "<a href=\"https://colab.research.google.com/github/MonikaVen/LLM-Prompting-RAG-Aligment-Training-Tutorial/blob/main/4_OLMO_LLM_Training.ipynb\" target=\"_parent\"><img src=\"https://colab.research.google.com/assets/colab-badge.svg\" alt=\"Open In Colab\"/></a>"
      ]
    },
    {
      "cell_type": "markdown",
      "source": [
        "Download the dataset:\n",
        "\n",
        "https://olmo-data.org/preprocessed/olmo-mix/v1_5/gpt-neox-20b-pii-special/part-000-00000.npy"
      ],
      "metadata": {
        "id": "ZJG5LC9gdivd"
      }
    },
    {
      "cell_type": "code",
      "source": ["torchrun --nproc_per_node=8 scripts/train.py configs/official/OLMo-1B.yaml \n"],
      "metadata": {
        "id": "P_Zos_9Edvtf"
      },
      "execution_count": null,
      "outputs": []
    },
    {
      "cell_type": "code",
      "source": [],
      "metadata": {
        "id": "lKY4kDAldmnQ"
      },
      "execution_count": null,
      "outputs": []
    }
  ]
}
